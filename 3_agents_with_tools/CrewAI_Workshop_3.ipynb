{
 "cells": [
  {
   "cell_type": "markdown",
   "id": "b7e7ae8f",
   "metadata": {},
   "source": [
    "# Financial Advisor Workflow Using CrewAI"
   ]
  },
  {
   "cell_type": "markdown",
   "id": "f717489a",
   "metadata": {},
   "source": [
    "\n",
    "In this notebook, we demonstrate how to build a financial advisory system using **CrewAI**. The system integrates multiple agents, each with a specific role, to:\n",
    "1. Gather financial data from the internet.\n",
    "2. Analyze the financial data.\n",
    "3. Provide investment recommendations.\n",
    "\n",
    "---\n",
    "### Workflow Overview\n",
    "1. Define tools to support the agents, such as web search capabilities.\n",
    "2. Create three agents for data gathering, analysis, and financial advice.\n",
    "3. Define tasks corresponding to these agents.\n",
    "4. Set up a crew that executes the tasks sequentially.\n",
    "5. Run the crew to achieve the desired outcome.\n",
    "\n",
    "---\n",
    "### Code Walkthrough\n",
    "Below is the implementation.\n"
   ]
  },
  {
   "cell_type": "markdown",
   "id": "7afc3692",
   "metadata": {},
   "source": [
    "### Step 1: Import Required Libraries and Define Tools"
   ]
  },
  {
   "cell_type": "code",
   "execution_count": null,
   "id": "4a751d22",
   "metadata": {},
   "outputs": [],
   "source": [
    "from crewai import Agent, Task\n",
    "from crewai.tools import tool\n",
    "from langchain_community.tools import DuckDuckGoSearchRun\n",
    "from dotenv import load_dotenv\n",
    "from datetime import datetime\n",
    "\n",
    "# Load environment variables from a '.env' file\n",
    "load_dotenv()\n",
    "\n",
    "# Current date for context\n",
    "Now = datetime.now()\n",
    "Today = Now.strftime(\"%d-%b-%Y\")\n",
    "\n",
    "# Define a web search tool\n",
    "@tool(\"DuckDuckGo Search\")\n",
    "def search_tool(search_query: str):\n",
    "    \"\"\"Search the internet for information on a given topic\"\"\"\n",
    "    return DuckDuckGoSearchRun().run(search_query)"
   ]
  },
  {
   "cell_type": "markdown",
   "id": "b3c0586a",
   "metadata": {},
   "source": [
    "### Step 2: Define the Agents"
   ]
  },
  {
   "cell_type": "code",
   "execution_count": null,
   "id": "e7683988",
   "metadata": {},
   "outputs": [],
   "source": [
    "from crewai import Agent\n",
    "\n",
    "# Agent to gather financial data from the internet\n",
    "content_explorer = Agent(\n",
    "    role='Data Researcher',\n",
    "    goal='Gather and provide latest information about the topic from the internet',\n",
    "    llm='gpt-4o-mini',\n",
    "    verbose=True,\n",
    "    backstory=(\n",
    "        'You are an expert researcher, who can gather detailed information about a topic. '\n",
    "        'Consider you are on: ' + Today\n",
    "    ),\n",
    "    tools=[search_tool],\n",
    "    cache=True,\n",
    "    max_iter=5,\n",
    ")\n",
    "\n",
    "# Agent to analyze financial data\n",
    "analyst = Agent(\n",
    "    role='Data Analyst',\n",
    "    goal='Consolidate financial data, stock information and provide a summary',\n",
    "    llm='gpt-4o-mini',\n",
    "    verbose=True,\n",
    "    backstory=(\n",
    "        'You are an expert in analyzing financial data and stock-related information to create a summary. '\n",
    "        'Consider you are on: ' + Today\n",
    "    ),\n",
    ")\n",
    "\n",
    "# Agent to provide investment recommendations\n",
    "fin_expert = Agent(\n",
    "    role='Financial Expert',\n",
    "    goal='Considering financial analysis of a stock, make investment recommendations',\n",
    "    llm='gpt-4o-mini',\n",
    "    verbose=True,\n",
    "    backstory=(\n",
    "        'You are a financial advisor, providing investment recommendations. '\n",
    "        'Consider the financial analysis and make recommendations about whether to buy a stock. '\n",
    "        'Consider you are on: ' + Today\n",
    "    ),\n",
    ")"
   ]
  },
  {
   "cell_type": "markdown",
   "id": "0dbda9c6",
   "metadata": {},
   "source": [
    "### Step 3: Define the Tasks"
   ]
  },
  {
   "cell_type": "code",
   "execution_count": null,
   "id": "2c4ddc01",
   "metadata": {},
   "outputs": [],
   "source": [
    "from crewai import Task\n",
    "from my_agents import content_explorer, analyst, fin_expert\n",
    "\n",
    "# Task to gather company financial data\n",
    "get_company_financials = Task(\n",
    "    description=\"Get latest financial data for stock: {stock}\",\n",
    "    expected_output=\"Latest data about balance sheet, cash flow, and profit for stock {stock}\",\n",
    "    agent=content_explorer,\n",
    ")\n",
    "\n",
    "# Task to analyze the financial data\n",
    "Anlayse = Task(\n",
    "    description=\"Make thorough analysis based on given financial data of a stock\",\n",
    "    expected_output=\"Comprehensive analysis of a stock outlining financial health, stock valuation, and risks\",\n",
    "    agent=analyst,\n",
    "    context=[get_company_financials],\n",
    "    output_file='Analysis.txt',\n",
    ")\n",
    "\n",
    "# Task to provide investment advice\n",
    "Advise = Task(\n",
    "    description=\"Make a recommendation about investing in a stock, based on analysis provided\",\n",
    "    expected_output=\"Recommendation (Buy / No Buy) of a stock, with reasons clearly mentioned\",\n",
    "    agent=fin_expert,\n",
    "    context=[Anlayse],\n",
    "    output_file='Recommendation.txt',\n",
    ")"
   ]
  },
  {
   "cell_type": "markdown",
   "id": "0bb19341",
   "metadata": {},
   "source": [
    "### Step 4: Set Up the Crew"
   ]
  },
  {
   "cell_type": "code",
   "execution_count": null,
   "id": "a7f1058d",
   "metadata": {},
   "outputs": [],
   "source": [
    "from crewai import Crew, Process\n",
    "from datetime import datetime\n",
    "\n",
    "# Callback function to print a timestamp\n",
    "def timestamp(Input):\n",
    "    print(datetime.now())\n",
    "\n",
    "# Define the crew with agents and tasks in sequential process\n",
    "crew = Crew(\n",
    "    agents=[content_explorer, analyst, fin_expert],\n",
    "    tasks=[get_company_financials, Anlayse, Advise],\n",
    "    verbose=True,\n",
    "    Process=Process.sequential,\n",
    "    step_callback=timestamp,\n",
    ")"
   ]
  },
  {
   "cell_type": "markdown",
   "id": "f3557b9f",
   "metadata": {},
   "source": [
    "### Step 5: Run the Crew and Observe Results"
   ]
  },
  {
   "cell_type": "code",
   "execution_count": null,
   "id": "907ceb8a",
   "metadata": {},
   "outputs": [],
   "source": [
    "# Run the crew with a specific stock\n",
    "result = crew.kickoff(inputs={'stock': 'Tata Steel'})\n",
    "\n",
    "# Print the final result\n",
    "print(\"Final Result:\", result)"
   ]
  },
  {
   "cell_type": "markdown",
   "id": "4acf8a0f",
   "metadata": {},
   "source": [
    "\n",
    "---\n",
    "### Conclusion\n",
    "This workflow demonstrates how to integrate multiple agents to perform tasks sequentially in a financial advisory context. It showcases the power of CrewAI for building AI-driven collaborative solutions.\n"
   ]
  }
 ],
 "metadata": {},
 "nbformat": 4,
 "nbformat_minor": 5
}
