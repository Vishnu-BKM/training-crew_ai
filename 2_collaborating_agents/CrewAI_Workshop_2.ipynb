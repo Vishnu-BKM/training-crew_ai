{
 "cells": [
  {
   "cell_type": "markdown",
   "id": "93604cca",
   "metadata": {},
   "source": [
    "# Collaborative AI Agents with CrewAI"
   ]
  },
  {
   "cell_type": "markdown",
   "id": "71864007",
   "metadata": {},
   "source": [
    "\n",
    "In this notebook, we explore how **CrewAI** can facilitate collaboration between multiple AI agents to perform tasks sequentially. We define two agents, each with distinct roles and objectives, and orchestrate their tasks as part of a crew.\n",
    "\n",
    "---\n",
    "### Workflow Overview\n",
    "1. Define two agents with specific roles: one for data exploration and another for summarization.\n",
    "2. Define tasks that map to these agents and their capabilities.\n",
    "3. Set up a crew to run these tasks sequentially with a timestamp callback.\n",
    "4. Kickoff the crew to achieve the desired results.\n",
    "\n",
    "---\n",
    "### Code Walkthrough\n",
    "Below is the implementation.\n"
   ]
  },
  {
   "cell_type": "markdown",
   "id": "19be8253",
   "metadata": {},
   "source": [
    "### Step 1: Import Required Libraries and Load Environment Variables"
   ]
  },
  {
   "cell_type": "code",
   "execution_count": null,
   "id": "6bcf22a5",
   "metadata": {},
   "outputs": [],
   "source": [
    "from crewai import Agent\n",
    "from dotenv import load_dotenv\n",
    "\n",
    "# Load environment variables from a '.env' file\n",
    "load_dotenv()"
   ]
  },
  {
   "cell_type": "markdown",
   "id": "388357c6",
   "metadata": {},
   "source": [
    "### Step 2: Define the Agents"
   ]
  },
  {
   "cell_type": "code",
   "execution_count": null,
   "id": "a2275712",
   "metadata": {},
   "outputs": [],
   "source": [
    "from crewai import Agent\n",
    "\n",
    "# Agent to explore and gather information\n",
    "explorer = Agent(\n",
    "    role='Data Explorer',\n",
    "    goal='Research, gather and provide information about the topic : {topic}',\n",
    "    llm='groq/llama3-70b-8192',\n",
    "    verbose=True,\n",
    "    backstory=(\n",
    "        'You are an expert researcher, who can gather detailed information about a topic'\n",
    "    ),\n",
    ")\n",
    "\n",
    "# Agent to synthesise and summarise the information\n",
    "synthesiser = Agent(\n",
    "    role='Information Synthesiser',\n",
    "    goal='Summarise the information given in a synthetic manner',\n",
    "    llm='groq/llama3-70b-8192',\n",
    "    verbose=True,\n",
    "    backstory=(\n",
    "        'You are an expert in summarising provided information in a simple, concise and synthetic way'\n",
    "    ),\n",
    ")"
   ]
  },
  {
   "cell_type": "markdown",
   "id": "d34155f8",
   "metadata": {},
   "source": [
    "### Step 3: Define the Tasks"
   ]
  },
  {
   "cell_type": "code",
   "execution_count": null,
   "id": "58bae92a",
   "metadata": {},
   "outputs": [],
   "source": [
    "from crewai import Task\n",
    "from my_agents import explorer, synthesiser\n",
    "\n",
    "# Task for exploring a topic\n",
    "explore = Task(\n",
    "    description='Explore and gather information about topic : {topic}',\n",
    "    expected_output='Information from various sources and aspects about {topic}',\n",
    "    agent=explorer,\n",
    ")\n",
    "\n",
    "# Task for summarising information\n",
    "summarise = Task(\n",
    "    description='Summarise provided information',\n",
    "    expected_output='Simple, concise, synthetic summary of provided information',\n",
    "    agent=synthesiser,\n",
    ")"
   ]
  },
  {
   "cell_type": "markdown",
   "id": "f97483c8",
   "metadata": {},
   "source": [
    "### Step 4: Set Up the Crew"
   ]
  },
  {
   "cell_type": "code",
   "execution_count": null,
   "id": "0915f8ab",
   "metadata": {},
   "outputs": [],
   "source": [
    "from crewai import Crew, Process\n",
    "from datetime import datetime\n",
    "\n",
    "# Callback function to print a timestamp\n",
    "def timestamp(Input):\n",
    "    print(datetime.now())\n",
    "\n",
    "# Define the crew with agents and tasks in sequential process\n",
    "crew = Crew(\n",
    "    agents=[explorer, synthesiser],\n",
    "    tasks=[explore, summarise],\n",
    "    verbose=True,\n",
    "    Process=Process.sequential,\n",
    "    step_callback=timestamp,\n",
    ")"
   ]
  },
  {
   "cell_type": "markdown",
   "id": "32cb73ea",
   "metadata": {},
   "source": [
    "### Step 5: Run the Crew and Observe Results"
   ]
  },
  {
   "cell_type": "code",
   "execution_count": null,
   "id": "a741a5be",
   "metadata": {},
   "outputs": [],
   "source": [
    "# Run the crew with a specific topic\n",
    "result = crew.kickoff(inputs={'topic': 'AI in software industry'})\n",
    "\n",
    "# Print the final result\n",
    "print(\"Final Result:\", result)"
   ]
  },
  {
   "cell_type": "markdown",
   "id": "f7c4fa7c",
   "metadata": {},
   "source": [
    "\n",
    "---\n",
    "### Conclusion\n",
    "This demonstrates how multiple agents can collaborate within the CrewAI framework to perform sequential tasks. By leveraging distinct roles and responsibilities, agents achieve a unified goal efficiently.\n"
   ]
  }
 ],
 "metadata": {},
 "nbformat": 4,
 "nbformat_minor": 5
}
