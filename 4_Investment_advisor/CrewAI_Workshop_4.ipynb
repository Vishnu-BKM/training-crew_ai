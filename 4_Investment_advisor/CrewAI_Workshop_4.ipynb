{
 "cells": [
  {
   "cell_type": "markdown",
   "id": "43e5aea2",
   "metadata": {},
   "source": [
    "# Comprehensive Investment Advisory Workflow Using CrewAI"
   ]
  },
  {
   "cell_type": "markdown",
   "id": "9c19d5e9",
   "metadata": {},
   "source": [
    "\n",
    "In this notebook, we illustrate a sophisticated investment advisory system built using **CrewAI**. The workflow combines multiple AI agents, each equipped with specialized tools, to:\n",
    "1. Gather financial data and news about a company.\n",
    "2. Analyze the data comprehensively.\n",
    "3. Provide actionable investment recommendations.\n",
    "\n",
    "---\n",
    "### Workflow Overview\n",
    "1. Define custom tools to retrieve financial data, income statements, and stock prices.\n",
    "2. Create agents for data gathering, analysis, and recommendation tasks.\n",
    "3. Define tasks aligned with these agents' roles and objectives.\n",
    "4. Configure a crew to execute these tasks sequentially, leveraging collaboration between agents.\n",
    "5. Run the workflow and observe the results.\n",
    "\n",
    "---\n",
    "### Code Walkthrough\n",
    "Below is the implementation.\n"
   ]
  },
  {
   "cell_type": "markdown",
   "id": "4d7fd515",
   "metadata": {},
   "source": [
    "### Step 1: Import Required Libraries and Define Tools"
   ]
  },
  {
   "cell_type": "code",
   "execution_count": null,
   "id": "75aead4e",
   "metadata": {},
   "outputs": [],
   "source": [
    "from crewai import Agent, Task\n",
    "from crewai.tools import tool\n",
    "from langchain_community.tools import DuckDuckGoSearchRun\n",
    "from my_tools import get_current_stock_price, get_company_info, get_income_statements\n",
    "from dotenv import load_dotenv\n",
    "from datetime import datetime\n",
    "\n",
    "# Load environment variables from a '.env' file\n",
    "load_dotenv()\n",
    "\n",
    "# Current date for context\n",
    "Now = datetime.now()\n",
    "Today = Now.strftime(\"%d-%b-%Y\")\n",
    "\n",
    "# Define a web search tool\n",
    "@tool(\"DuckDuckGo Search\")\n",
    "def search_tool(search_query: str):\n",
    "    \"\"\"Search the internet for information on a given topic\"\"\"\n",
    "    return DuckDuckGoSearchRun().run(search_query)"
   ]
  },
  {
   "cell_type": "markdown",
   "id": "08db8f41",
   "metadata": {},
   "source": [
    "### Step 2: Define the Agents"
   ]
  },
  {
   "cell_type": "code",
   "execution_count": null,
   "id": "8ec045d0",
   "metadata": {},
   "outputs": [],
   "source": [
    "from crewai import Agent\n",
    "\n",
    "# Agent for gathering company news and information\n",
    "news_info_explorer = Agent(\n",
    "    role='News and Info Researcher',\n",
    "    goal='Gather and provide the latest news and information about a company from the internet',\n",
    "    llm='gpt-4o-mini',\n",
    "    verbose=True,\n",
    "    backstory=(\n",
    "        'You are an expert researcher, who can gather detailed information about a company. '\n",
    "        'Consider you are on: ' + Today\n",
    "    ),\n",
    "    tools=[search_tool],\n",
    "    cache=True,\n",
    "    max_iter=5,\n",
    ")\n",
    "\n",
    "# Agent for gathering financial data\n",
    "data_explorer = Agent(\n",
    "    role='Data Researcher',\n",
    "    goal='Gather and provide financial data and company information about a stock',\n",
    "    llm='gpt-4o-mini',\n",
    "    verbose=True,\n",
    "    backstory=(\n",
    "        'You are an expert researcher, who can gather detailed information about a company or stock. '\n",
    "        'When using tools, add the suffix \".NS\" to the stock symbol. '\n",
    "        'Consider you are on: ' + Today\n",
    "    ),\n",
    "    tools=[get_company_info, get_income_statements],\n",
    "    cache=True,\n",
    "    max_iter=5,\n",
    ")\n",
    "\n",
    "# Agent for analyzing data\n",
    "analyst = Agent(\n",
    "    role='Data Analyst',\n",
    "    goal='Consolidate financial data, stock information, and provide a summary',\n",
    "    llm='gpt-4o-mini',\n",
    "    verbose=True,\n",
    "    backstory=(\n",
    "        'You are an expert in analyzing financial data, stock/company-related current information, and '\n",
    "        'making a comprehensive analysis. Use Indian units for numbers (lakh, crore). '\n",
    "        'Consider you are on: ' + Today\n",
    "    ),\n",
    ")\n",
    "\n",
    "# Agent for financial recommendations\n",
    "fin_expert = Agent(\n",
    "    role='Financial Expert',\n",
    "    goal='Considering financial analysis of a stock, make investment recommendations',\n",
    "    llm='gpt-4o-mini',\n",
    "    verbose=True,\n",
    "    tools=[get_current_stock_price],\n",
    "    max_iter=5,\n",
    "    backstory=(\n",
    "        'You are a financial advisor who can provide investment recommendations. '\n",
    "        'Consider the financial analysis, current information about the company, current stock price, '\n",
    "        'and make recommendations about whether to buy a stock. '\n",
    "        'When using tools, add the suffix \".NS\" to the stock symbol. '\n",
    "        'Consider you are on: ' + Today\n",
    "    ),\n",
    ")"
   ]
  },
  {
   "cell_type": "markdown",
   "id": "64d4437c",
   "metadata": {},
   "source": [
    "### Step 3: Define the Tasks"
   ]
  },
  {
   "cell_type": "code",
   "execution_count": null,
   "id": "c3e78f83",
   "metadata": {},
   "outputs": [],
   "source": [
    "from crewai import Task\n",
    "from my_agents import news_info_explorer, data_explorer, analyst, fin_expert\n",
    "\n",
    "# Task to gather financial data of a stock\n",
    "get_company_financials = Task(\n",
    "    description=\"Get financial data like income statements and other fundamental ratios for stock: {stock}\",\n",
    "    expected_output=\"Detailed information from income statement, key ratios for {stock}. \"\n",
    "                    \"Indicate also about current financial status and trend over the period.\",\n",
    "    agent=data_explorer,\n",
    ")\n",
    "\n",
    "# Task to gather company news\n",
    "get_company_news = Task(\n",
    "    description=\"Get latest news and business information about company: {stock}\",\n",
    "    expected_output=\"Latest news and business information about the company. Provide a summary also.\",\n",
    "    agent=news_info_explorer,\n",
    ")\n",
    "\n",
    "# Task to analyze financial data and news\n",
    "analyse = Task(\n",
    "    description=\"Make thorough analysis based on given financial data and latest news of a stock\",\n",
    "    expected_output=\"Comprehensive analysis of a stock outlining financial health, stock valuation, risks, and news. \"\n",
    "                    \"Mention currency information and number units in Indian context (lakh/crore).\",\n",
    "    agent=analyst,\n",
    "    context=[get_company_financials, get_company_news],\n",
    "    output_file='Analysis.md',\n",
    ")\n",
    "\n",
    "# Task to provide financial advice\n",
    "advise = Task(\n",
    "    description=\"Make a recommendation about investing in a stock, based on analysis provided and current stock price. \"\n",
    "                \"State the reasons.\",\n",
    "    expected_output=\"Recommendation (Buy / No Buy) of a stock, with reasons clearly mentioned.\",\n",
    "    agent=fin_expert,\n",
    "    context=[analyse],\n",
    "    output_file='Recommendation.md',\n",
    ")"
   ]
  },
  {
   "cell_type": "markdown",
   "id": "97a2571e",
   "metadata": {},
   "source": [
    "### Step 4: Set Up the Crew"
   ]
  },
  {
   "cell_type": "code",
   "execution_count": null,
   "id": "25e9ba1e",
   "metadata": {},
   "outputs": [],
   "source": [
    "from crewai import Crew, Process\n",
    "from datetime import datetime\n",
    "\n",
    "# Callback function to print a timestamp\n",
    "def timestamp(Input):\n",
    "    print(datetime.now())\n",
    "\n",
    "# Define the crew with agents and tasks in sequential process\n",
    "crew = Crew(\n",
    "    agents=[data_explorer, news_info_explorer, analyst, fin_expert],\n",
    "    tasks=[get_company_financials, get_company_news, analyse, advise],\n",
    "    verbose=True,\n",
    "    Process=Process.sequential,\n",
    "    step_callback=timestamp,\n",
    ")"
   ]
  },
  {
   "cell_type": "markdown",
   "id": "569c842e",
   "metadata": {},
   "source": [
    "### Step 5: Run the Crew and Observe Results"
   ]
  },
  {
   "cell_type": "code",
   "execution_count": null,
   "id": "e131206a",
   "metadata": {},
   "outputs": [],
   "source": [
    "# Run the crew with a specific stock\n",
    "result = crew.kickoff(inputs={'stock': 'Hdfc Bank'})\n",
    "\n",
    "# Print the final result\n",
    "print(\"Final Result:\", result)"
   ]
  },
  {
   "cell_type": "markdown",
   "id": "d4917f4a",
   "metadata": {},
   "source": [
    "\n",
    "---\n",
    "### Conclusion\n",
    "This workflow demonstrates a detailed investment advisory process using multiple agents and tasks. The system showcases the integration of custom tools and collaborative agents in CrewAI to provide actionable financial insights.\n"
   ]
  }
 ],
 "metadata": {},
 "nbformat": 4,
 "nbformat_minor": 5
}
