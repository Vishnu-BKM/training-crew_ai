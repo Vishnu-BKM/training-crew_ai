{
 "cells": [
  {
   "cell_type": "markdown",
   "id": "416ac773",
   "metadata": {},
   "source": [
    "# Using CrewAI for Defining and Running AI Agents"
   ]
  },
  {
   "cell_type": "markdown",
   "id": "dbc18889",
   "metadata": {},
   "source": [
    "\n",
    "In this notebook, we will use **CrewAI**, a framework for defining and running AI agents for specific tasks. This notebook will guide you through setting up an agent, assigning a task, and running the process.\n",
    "\n",
    "## Steps Overview\n",
    "1. Define an Agent with a role, goal, and the LLM model it will use.\n",
    "2. Define a Task that associates a description and expected output to the agent.\n",
    "3. Initialize a Crew with the agent and task.\n",
    "4. Kickoff the Crew with an input query and observe the response.\n",
    "\n",
    "---\n",
    "### Prerequisites\n",
    "- Install the `crewai` library.\n",
    "- Obtain API keys for the LLM model you want to use (e.g., Groq or OpenAI).\n",
    "- Set up a Python environment with necessary dependencies.\n",
    "\n",
    "---\n",
    "### Code Walkthrough\n",
    "Below is the implementation to define and use an AI agent for answering queries.\n"
   ]
  },
  {
   "cell_type": "markdown",
   "id": "6c1e0e49",
   "metadata": {},
   "source": [
    "### Step 1: Define the Agent"
   ]
  },
  {
   "cell_type": "code",
   "execution_count": null,
   "id": "8a3fa9d5",
   "metadata": {},
   "outputs": [],
   "source": [
    "from crewai import Agent\n",
    "\n",
    "# Define an agent with its role and purpose\n",
    "chat_bot = Agent(\n",
    "    role='Responder to Queries',\n",
    "    goal='Provide a response to {query}',\n",
    "    llm='groq/llama3-70b-8192',\n",
    "    verbose=True,    \n",
    "    backstory=(\n",
    "        'A generalist having broad view about various topics, '\n",
    "        'you will be able to answer to the queries, questions, or statements'\n",
    "    ),\n",
    ")"
   ]
  },
  {
   "cell_type": "markdown",
   "id": "9e1b75e1",
   "metadata": {},
   "source": [
    "### Step 2: Define the Task"
   ]
  },
  {
   "cell_type": "code",
   "execution_count": null,
   "id": "987c9d9a",
   "metadata": {},
   "outputs": [],
   "source": [
    "from crewai import Task\n",
    "\n",
    "# Import the previously defined agent\n",
    "from my_agents import chat_bot\n",
    "\n",
    "# Define a task with a description and expected output\n",
    "chat_task = Task(\n",
    "    description=('{query}'),\n",
    "    expected_output='A response to {query}',\n",
    "    agent=chat_bot,\n",
    ")"
   ]
  },
  {
   "cell_type": "markdown",
   "id": "8b22e9bf",
   "metadata": {},
   "source": [
    "### Step 3: Initialize the Crew"
   ]
  },
  {
   "cell_type": "code",
   "execution_count": null,
   "id": "e1608bf4",
   "metadata": {},
   "outputs": [],
   "source": [
    "from crewai import Crew, Process\n",
    "import os\n",
    "\n",
    "# Import your agents and tasks\n",
    "from my_agents import chat_bot\n",
    "from my_tasks import chat_task\n",
    "\n",
    "# Set your Groq API key or any other LLM API key\n",
    "os.environ['GROQ_API_KEY'] = \"Your API Key\"\n",
    "\n",
    "# Define the Crew with agents and tasks\n",
    "crew = Crew(\n",
    "    agents=[chat_bot],\n",
    "    tasks=[chat_task],\n",
    ")"
   ]
  },
  {
   "cell_type": "markdown",
   "id": "a47100b2",
   "metadata": {},
   "source": [
    "### Step 4: Run the Crew and Get the Response"
   ]
  },
  {
   "cell_type": "code",
   "execution_count": null,
   "id": "238c65b8",
   "metadata": {},
   "outputs": [],
   "source": [
    "# Kickoff the Crew with the input query\n",
    "result = crew.kickoff(inputs={'query': 'What is Bangalore famously known for?'})\n",
    "\n",
    "# Print the response\n",
    "print(\"Response:\", result)"
   ]
  },
  {
   "cell_type": "markdown",
   "id": "85e8c10f",
   "metadata": {},
   "source": [
    "\n",
    "---\n",
    "### Conclusion\n",
    "This demonstrates the ability to define and execute tasks with CrewAI agents. You can now expand this framework to handle more complex tasks and use cases by modifying the agent's backstory, goals, or associated tasks.\n"
   ]
  }
 ],
 "metadata": {},
 "nbformat": 4,
 "nbformat_minor": 5
}
